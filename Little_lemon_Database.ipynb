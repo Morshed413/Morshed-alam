{
 "cells": [
  {
   "cell_type": "code",
   "execution_count": 175,
   "id": "859151a4-3297-4533-8a8f-61d50c651231",
   "metadata": {},
   "outputs": [],
   "source": [
    "# import mysql.connection \n",
    "import mysql.connector as connector"
   ]
  },
  {
   "cell_type": "code",
   "execution_count": null,
   "id": "7eac3a57-112c-4720-973e-09516c96bc03",
   "metadata": {},
   "outputs": [],
   "source": [
    "# Establish connection between python and MySQL database via connector APT\n",
    "connection = connector.connect(\n",
    "    user = 'root',\n",
    "    host = 'localhost',\n",
    "    database = 'little_lemon',\n",
    "    password = ''\n",
    ")"
   ]
  },
  {
   "cell_type": "code",
   "execution_count": 178,
   "id": "bbf1ea14-e6bc-47eb-9d04-9d2dcc33ca08",
   "metadata": {},
   "outputs": [],
   "source": [
    "#  Create a cursor object\n",
    "cursor = connection.cursor()"
   ]
  },
  {
   "cell_type": "code",
   "execution_count": null,
   "id": "1b18f598",
   "metadata": {},
   "outputs": [
    {
     "name": "stdout",
     "output_type": "stream",
     "text": [
      "(2,)\n"
     ]
    }
   ],
   "source": [
    "# The Get Max Quantity procedure is properly implemented\n",
    "cursor.execute(\"SELECT MAX(Quantity) FROM Orders;\")\n",
    "results = cursor.fetchall()\n",
    "for x in results:\n",
    "    print(x)"
   ]
  },
  {
   "cell_type": "code",
   "execution_count": 183,
   "id": "a28407b5-2c83-4ada-84e2-d83a413fa7ca",
   "metadata": {},
   "outputs": [],
   "source": [
    "# The Manage Booking() procedure is properly implemented\n",
    "create_booking_table = \"\"\"CREATE TABLE Bookings (\n",
    "BookingID INT AUTO_INCREMENT,\n",
    "TableNo INT,\n",
    "GuestFirstName VARCHAR(100) NOT NULL,\n",
    "GuestLastName VARCHAR(100) NOT NULL,\n",
    "BookingSlot TIME NOT NULL,\n",
    "EmployeeID INT,\n",
    "PRIMARY KEY (BookingID)\n",
    ");\"\"\""
   ]
  },
  {
   "cell_type": "code",
   "execution_count": null,
   "id": "7129b33d-0bc1-4cef-9ed4-713aefc7f63e",
   "metadata": {},
   "outputs": [],
   "source": [
    "# The Add Booking() procedure is properly implemented\n",
    "insert_bookings = \"\"\"\n",
    "INSERT INTO Bookings\n",
    "(BookingID, TableNo, GuestFirstName, \n",
    "GuestLastName, BookingSlot, EmployeeID)\n",
    "VALUES\n",
    "(1,12,'Anna','Iversen','19:00:00',1),\n",
    "(2, 12, 'Joakim', 'Iversen', '19:00:00', 1),\n",
    "(3, 19, 'Vanessa', 'McCarthy', '15:00:00', 3),\n",
    "(4, 15, 'Marcos', 'Romero', '17:30:00', 4),\n",
    "(5, 5, 'Hiroki', 'Yamane', '18:30:00', 2),\n",
    "(6, 8, 'Diana', 'Pinto', '20:00:00', 5);\"\"\""
   ]
  },
  {
   "cell_type": "code",
   "execution_count": null,
   "id": "d1920214-39fb-4762-ad18-16ad00b35773",
   "metadata": {},
   "outputs": [],
   "source": [
    "# The Update Booking() procedure is properly implemented\n",
    "update_bookings = \"\"\"\n",
    "UPDATE bookings\n",
    "SET TableNo = 10\n",
    "WHERE BookingID = 6\n",
    "\"\"\""
   ]
  },
  {
   "cell_type": "code",
   "execution_count": null,
   "id": "2c15f4cd-998b-4a16-825d-1357e0980f2d",
   "metadata": {},
   "outputs": [],
   "source": [
    "cursor.execute(update_bookings)"
   ]
  },
  {
   "cell_type": "code",
   "execution_count": null,
   "id": "34061145-5fcc-434b-a339-7d14a671a32c",
   "metadata": {},
   "outputs": [],
   "source": [
    "connection.commit()"
   ]
  },
  {
   "cell_type": "code",
   "execution_count": null,
   "id": "8ab7c0bc-c053-47a5-a88f-3845704fc904",
   "metadata": {},
   "outputs": [],
   "source": [
    "# The Cancel Booking() procedure is properly implemented\n",
    "delete_query_bookingID = \"\"\"\n",
    "DELETE FROM bookings\n",
    "WHERE bookingID = 4\n",
    "\"\"\"\n"
   ]
  },
  {
   "cell_type": "code",
   "execution_count": null,
   "id": "56546649-505d-4258-8846-fd53d4cdebf3",
   "metadata": {},
   "outputs": [],
   "source": [
    "cursor.execute(delete_query_bookingID)"
   ]
  },
  {
   "cell_type": "code",
   "execution_count": null,
   "id": "1be394a6-8b32-45c2-87ec-450feef2a173",
   "metadata": {},
   "outputs": [],
   "source": [
    "connection.commit()"
   ]
  },
  {
   "cell_type": "code",
   "execution_count": null,
   "id": "8d5510aa-11f8-425c-b05e-819ac9252125",
   "metadata": {},
   "outputs": [],
   "source": [
    "select_stmt = \"\"\" SELECT * FROM bookings;\"\"\""
   ]
  },
  {
   "cell_type": "raw",
   "id": "783f9bee-c668-4a9b-951f-0357e075a976",
   "metadata": {},
   "source": [
    "cursor.execute(select_stmt)"
   ]
  },
  {
   "cell_type": "code",
   "execution_count": null,
   "id": "53e67a2d-dece-4484-958b-50fdf01b29b4",
   "metadata": {},
   "outputs": [],
   "source": [
    "select_billamount = \"\"\"\n",
    "SELECT BookingsID, BillAmount\n",
    "FROM Orders\n",
    "WHERE BillAmount = 40; \n",
    "\"\"\""
   ]
  },
  {
   "cell_type": "code",
   "execution_count": null,
   "id": "fa2c91e0-475d-4fcf-8a96-4a5115041894",
   "metadata": {},
   "outputs": [],
   "source": [
    "# cursor.execute(select_billamount)"
   ]
  },
  {
   "cell_type": "code",
   "execution_count": null,
   "id": "89bb4e2f-b187-43a9-a4dd-35bc34550480",
   "metadata": {},
   "outputs": [],
   "source": [
    "my_sql_query = \"\"\"\n",
    "SELECT Orders\n",
    "WHERE BillAmount >= 40\n",
    "ORDER BY BillAmount ASC\"\"\""
   ]
  }
 ],
 "metadata": {
  "kernelspec": {
   "display_name": "Python 3",
   "language": "python",
   "name": "python3"
  },
  "language_info": {
   "codemirror_mode": {
    "name": "ipython",
    "version": 3
   },
   "file_extension": ".py",
   "mimetype": "text/x-python",
   "name": "python",
   "nbconvert_exporter": "python",
   "pygments_lexer": "ipython3",
   "version": "3.13.0"
  }
 },
 "nbformat": 4,
 "nbformat_minor": 5
}
